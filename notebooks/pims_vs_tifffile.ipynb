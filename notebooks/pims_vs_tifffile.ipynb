{
 "cells": [
  {
   "cell_type": "markdown",
   "metadata": {},
   "source": [
    "# It looks like PIMS is running into issues when reading some ome-tiffs\n",
    "\n",
    "Let's see if tifffile can do better."
   ]
  },
  {
   "cell_type": "code",
   "execution_count": 1,
   "metadata": {},
   "outputs": [
    {
     "name": "stdout",
     "output_type": "stream",
     "text": [
      "/Users/jenny.folkesson/Code/imagingDB\n"
     ]
    }
   ],
   "source": [
    "%matplotlib inline\n",
    "\n",
    "import matplotlib.pyplot as plt\n",
    "import numpy as np\n",
    "import importlib\n",
    "import os\n",
    "import sys\n",
    "\n",
    "module_path = os.path.abspath(os.path.join('..'))\n",
    "print(module_path)\n",
    "if module_path not in sys.path:\n",
    "    sys.path.append(module_path)\n",
    "    \n",
    "import imaging_db.filestorage.s3_storage as s3_storage"
   ]
  },
  {
   "cell_type": "code",
   "execution_count": 2,
   "metadata": {},
   "outputs": [],
   "source": [
    "import imaging_db.database.db_session as db_session\n",
    "\n",
    "# Import all our tables\n",
    "from imaging_db.database.base import Base\n",
    "from imaging_db.database.file_global import FileGlobal\n",
    "from imaging_db.database.frames_global import FramesGlobal\n",
    "from imaging_db.database.frames import Frames\n",
    "# This is the overall table containing the identifier and description\n",
    "from imaging_db.database.dataset import DataSet\n",
    "\n",
    "\n",
    "importlib.reload(db_session)\n",
    "credentials_filename = \"/Users/jenny.folkesson/Code/db_credentials.json\""
   ]
  },
  {
   "cell_type": "code",
   "execution_count": 3,
   "metadata": {},
   "outputs": [
    {
     "name": "stdout",
     "output_type": "stream",
     "text": [
      "dict_keys(['file_global', 'frames_global', 'frames', 'data_set'])\n"
     ]
    }
   ],
   "source": [
    "with db_session.session_scope(credentials_filename) as session:\n",
    "    print(Base.metadata.tables.keys())"
   ]
  },
  {
   "attachments": {},
   "cell_type": "markdown",
   "metadata": {},
   "source": [
    "ISP-2018-06-08-15-45-00-0001 and ISP-2018-06-08-15-45-00-0002 are the same file, but one is uploaded with PIMS and the other with tifffile. Are they the same?"
   ]
  },
  {
   "cell_type": "code",
   "execution_count": 4,
   "metadata": {},
   "outputs": [
    {
     "name": "stdout",
     "output_type": "stream",
     "text": [
      "{'s3_dir': 'raw_frames/ISP-2018-06-08-15-45-00-0001', 'nbr_frames': 39, 'im_width': 2048, 'im_height': 2048, 'nbr_slices': 13, 'nbr_channels': 3, 'im_colors': 1, 'nbr_timepoints': 1, 'nbr_positions': 1, 'bit_depth': 'uint16'}\n"
     ]
    }
   ],
   "source": [
    "db_ops = db_session.DatabaseOperations(\n",
    "    credentials_filename,\n",
    "    dataset_serial=\"ISP-2018-06-08-15-45-00-0001\",\n",
    ")\n",
    "global_meta, frames_meta = db_ops.get_frames_meta()\n",
    "print(global_meta)"
   ]
  },
  {
   "cell_type": "code",
   "execution_count": 6,
   "metadata": {},
   "outputs": [
    {
     "name": "stdout",
     "output_type": "stream",
     "text": [
      "{'s3_dir': 'raw_frames/ISP-2018-06-08-15-45-00-0002', 'nbr_frames': 39, 'im_width': 2048, 'im_height': 2048, 'nbr_slices': 13, 'nbr_channels': 3, 'im_colors': 1, 'nbr_timepoints': 1, 'nbr_positions': 1, 'bit_depth': 'uint16'}\n"
     ]
    }
   ],
   "source": [
    "db_ops2 = db_session.DatabaseOperations(\n",
    "    credentials_filename,\n",
    "    dataset_serial=\"ISP-2018-06-08-15-45-00-0002\",\n",
    ")\n",
    "global_meta2, frames_meta2 = db_ops2.get_frames_meta()\n",
    "print(global_meta2)"
   ]
  },
  {
   "cell_type": "markdown",
   "metadata": {},
   "source": [
    "Global metadata looks the same, let's check local meta"
   ]
  },
  {
   "cell_type": "code",
   "execution_count": null,
   "metadata": {},
   "outputs": [],
   "source": [
    "dataset_identifier = \"ISP-2018-06-08-15-45-00-0001\"\n",
    "\n",
    "first_frame = session.query(Frames) \\\n",
    "    .join(FramesGlobal) \\\n",
    "    .join(DataSet) \\\n",
    "    .filter(DataSet.dataset_serial == dataset_identifier) \\\n",
    "    .first()\n",
    "\n",
    "s3_dir = first_frame.frames_global.s3_dir\n",
    "print(s3_dir)\n",
    "print(first_frame.)"
   ]
  }
 ],
 "metadata": {
  "kernelspec": {
   "display_name": "Python 3",
   "language": "python",
   "name": "python3"
  },
  "language_info": {
   "codemirror_mode": {
    "name": "ipython",
    "version": 3
   },
   "file_extension": ".py",
   "mimetype": "text/x-python",
   "name": "python",
   "nbconvert_exporter": "python",
   "pygments_lexer": "ipython3",
   "version": "3.6.5"
  }
 },
 "nbformat": 4,
 "nbformat_minor": 2
}
