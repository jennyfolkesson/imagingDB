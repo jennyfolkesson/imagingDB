{
 "cells": [
  {
   "cell_type": "markdown",
   "metadata": {},
   "source": [
    "# This notebook demonstrates some example imagingDB usecases\n",
    "\n",
    "First, we need to connect to thte database using a JSON file containing database login information"
   ]
  },
  {
   "cell_type": "code",
   "execution_count": 5,
   "metadata": {},
   "outputs": [],
   "source": [
    "import importlib\n",
    "\n",
    "import imaging_db.database.db_session as db_session\n",
    "\n",
    "# Import all our tables\n",
    "from imaging_db.database.base import Base\n",
    "from imaging_db.database.file_global import FileGlobal\n",
    "from imaging_db.database.sliced_global import SlicedGlobal\n",
    "from imaging_db.database.slices import Slices\n",
    "# This is the overall table containing the identifier and description\n",
    "from imaging_db.database.project import Project\n",
    "\n",
    "\n",
    "importlib.reload(db_session)\n",
    "credentials_filename = \"/Users/jenny.folkesson/Code/db_credentials.json\""
   ]
  },
  {
   "cell_type": "markdown",
   "metadata": {},
   "source": [
    "Now we can run some queries. Let's start with listing the names of existing tables"
   ]
  },
  {
   "cell_type": "code",
   "execution_count": 6,
   "metadata": {},
   "outputs": [
    {
     "name": "stdout",
     "output_type": "stream",
     "text": [
      "dict_keys(['file_global', 'sliced_global', 'slices', 'project'])\n"
     ]
    }
   ],
   "source": [
    "with db_session.session_scope(credentials_filename) as session:\n",
    "    print(Base.metadata.tables.keys())"
   ]
  },
  {
   "cell_type": "markdown",
   "metadata": {},
   "source": [
    "The main table \"Project\" contains the unique identifier, a description, and it's also telling us if the file as been slices or uploaded \"as is\"."
   ]
  },
  {
   "cell_type": "code",
   "execution_count": 7,
   "metadata": {},
   "outputs": [
    {
     "name": "stdout",
     "output_type": "stream",
     "text": [
      "1\n",
      "ML-2018-04-05-08-55-00-0001\n",
      "Description: This is a blank slide for testing\n",
      "Has this file been sliced: False\n",
      "--------\n",
      "2\n",
      "ISP-2018-06-08-15-45-00-0001\n",
      "Description: This is what I assume is a typical ome-tif file\n",
      "Has this file been sliced: True\n",
      "--------\n"
     ]
    }
   ],
   "source": [
    "# Print all existing projects with their properties\n",
    "projs = session.query(Project)\n",
    "for p in projs:\n",
    "    print(p.id)\n",
    "    print(p.project_serial)\n",
    "    print(\"Description:\", p.description)\n",
    "    print(\"Has this file been sliced:\", p.sliced)\n",
    "    print(\"--------\")"
   ]
  },
  {
   "cell_type": "markdown",
   "metadata": {},
   "source": [
    "Next, let's print all the fields for all files in FileGlobal.\n",
    "FileGlobal is the class which contains files that have been uploaded as is to S3."
   ]
  },
  {
   "cell_type": "code",
   "execution_count": 8,
   "metadata": {},
   "outputs": [
    {
     "name": "stdout",
     "output_type": "stream",
     "text": [
      "ML-2018-04-05-08-55-00-0001\n",
      "Folder location in S3 bucket: raw_files/ML-2018-04-05-08-55-00-0001\n",
      "{'file_origin': '/Users/jenny.folkesson/Data/microscopy/BlankSlide_DAPI_TxRed_BF_Phase.lif'}\n",
      "--------\n"
     ]
    }
   ],
   "source": [
    "files = session.query(FileGlobal)\n",
    "for f in files:\n",
    "    # This table has a one to one mapping with Project so we can retrieve ID\n",
    "    print(f.project.project_serial)\n",
    "    print(\"Folder location in S3 bucket:\", f.folder_name)\n",
    "    print(f.metadata_json)\n",
    "    print(\"--------\")"
   ]
  },
  {
   "cell_type": "markdown",
   "metadata": {},
   "source": [
    "SlicedGlobal contains global information for a particular file that has been sliced:"
   ]
  },
  {
   "cell_type": "code",
   "execution_count": 9,
   "metadata": {},
   "outputs": [
    {
     "name": "stdout",
     "output_type": "stream",
     "text": [
      "Number of frames: 39\n",
      "Image width: 2048\n",
      "Image height: 2048\n",
      "Bit depth: uint16\n",
      "Folder in S3 bucket: raw_slices/ISP-2018-06-08-15-45-00-0001\n",
      "Unique ID: ISP-2018-06-08-15-45-00-0001\n",
      "Global metadata: {'IJMetadata': {'ROI': [0, 0, 2048, 2048], 'UUID': '2e39c52a-6055-4579-8b2e-ff8ead0b3848', 'Depth': 2, 'Width': 2048, 'Frames': 1, 'Height': 2048, 'IJType': 1, 'Prefix': 'ISP_293T_TFRC_sgRNA2_20180601_1', 'Slices': 13, 'Source': 'Micro-Manager', 'ChNames': ['DAPI', 'FITC', 'Cy3'], 'Comment': '', 'GridRow': 0, 'BitDepth': 16, 'ChColors': [-10066177, -13421569, -205], 'Channels': 3, 'UserName': 'insituscope', 'Directory': 'C:\\\\Users\\\\InSituScope\\\\Desktop\\\\ISP-2018-06-01-001', 'PixelType': 'GRAY16', 'Positions': 6, 'TimeFirst': False, 'z-step_um': 0.7999999999999998, 'GridColumn': 0, 'Interval_ms': 0, 'PixelAspect': 1, 'SlicesFirst': True, 'ComputerName': 'BioEInSituTranscript1', 'PixelSize_um': 0, 'CameraTimeout': 20000, 'ChContrastMax': [65536, 65536, 65536], 'ChContrastMin': [0, 0, 0], 'MetadataVersion': 10, 'CustomIntervals_ms': [], 'InitialPositionList': [{'Label': 'Pos0', 'GridRowIndex': 0, 'GridColumnIndex': 0, 'DeviceCoordinatesUm': {'XY Stage': [42825.91796875, 50403.34375], 'FocusDrive': [590.90889], 'Adaptive Focus Control Offset': [0]}}, {'Label': 'Pos1', 'GridRowIndex': 0, 'GridColumnIndex': 0, 'DeviceCoordinatesUm': {'XY Stage': [42484.86328125, 50402.61328125], 'FocusDrive': [590.90889], 'Adaptive Focus Control Offset': [0]}}, {'Label': 'Pos2', 'GridRowIndex': 0, 'GridColumnIndex': 0, 'DeviceCoordinatesUm': {'XY Stage': [42042.17578125, 50467.5546875], 'FocusDrive': [591.54813], 'Adaptive Focus Control Offset': [0]}}, {'Label': 'Pos3', 'GridRowIndex': 0, 'GridColumnIndex': 0, 'DeviceCoordinatesUm': {'XY Stage': [42022.61328125, 50845.9375], 'FocusDrive': [591.54813], 'Adaptive Focus Control Offset': [0]}}, {'Label': 'Pos4', 'GridRowIndex': 0, 'GridColumnIndex': 0, 'DeviceCoordinatesUm': {'XY Stage': [41487.9296875, 50797.39453125], 'FocusDrive': [591.65467], 'Adaptive Focus Control Offset': [0]}}, {'Label': 'Pos5', 'GridRowIndex': 0, 'GridColumnIndex': 0, 'DeviceCoordinatesUm': {'XY Stage': [41150.3046875, 50566.515625], 'FocusDrive': [590.5131700000001], 'Adaptive Focus Control Offset': [0]}}], 'MicroManagerVersion': '1.4.23 20171128', 'KeepShutterOpenSlices': False, 'KeepShutterOpenChannels': False}, 'file_origin': '/Users/jenny.folkesson/Data/microscopy/ISP_293T_TFRC_sgRNA2_20180601_1_MMStack_Pos1.ome.tif'}\n",
      "--------\n"
     ]
    }
   ],
   "source": [
    "sliced = session.query(SlicedGlobal)\n",
    "for s in sliced:\n",
    "    print(\"Number of frames:\", s.nbr_frames)\n",
    "    print(\"Image width:\", s.im_width)\n",
    "    print(\"Image height:\", s.im_height)\n",
    "    print(\"Bit depth:\", s.bit_depth)\n",
    "    print(\"Folder in S3 bucket:\", s.folder_name)\n",
    "    # This table has a one to one mapping with Project so we can retrieve ID\n",
    "    print(\"Unique ID:\", s.project.project_serial)\n",
    "    print(\"Global metadata:\", s.metadata_json)\n",
    "    print(\"--------\")"
   ]
  },
  {
   "cell_type": "markdown",
   "metadata": {},
   "source": [
    "The next table for sliced data is \"Slices\", which contains slice specific information.\n",
    "This table has a many to one mapping with *SlicedGlobal*."
   ]
  },
  {
   "cell_type": "code",
   "execution_count": 10,
   "metadata": {},
   "outputs": [
    {
     "name": "stdout",
     "output_type": "stream",
     "text": [
      "1\n",
      "Channel index: 0\n",
      "Slice index: 0\n",
      "Frame index: 0\n",
      "Exposure (ms): 50\n",
      "Channel name: DAPI\n",
      "File name: im_c000_z000_t000.png\n",
      "Total number of frames in file: 39\n",
      "Project ID: ISP-2018-06-08-15-45-00-0001\n",
      "------------------------------------\n",
      "2\n",
      "Channel index: 0\n",
      "Slice index: 1\n",
      "Frame index: 0\n",
      "Exposure (ms): 50\n",
      "Channel name: DAPI\n",
      "File name: im_c000_z001_t000.png\n",
      "Total number of frames in file: 39\n",
      "Project ID: ISP-2018-06-08-15-45-00-0001\n",
      "------------------------------------\n",
      "3\n",
      "Channel index: 0\n",
      "Slice index: 2\n",
      "Frame index: 0\n",
      "Exposure (ms): 50\n",
      "Channel name: DAPI\n",
      "File name: im_c000_z002_t000.png\n",
      "Total number of frames in file: 39\n",
      "Project ID: ISP-2018-06-08-15-45-00-0001\n",
      "------------------------------------\n",
      "4\n",
      "Channel index: 0\n",
      "Slice index: 3\n",
      "Frame index: 0\n",
      "Exposure (ms): 50\n",
      "Channel name: DAPI\n",
      "File name: im_c000_z003_t000.png\n",
      "Total number of frames in file: 39\n",
      "Project ID: ISP-2018-06-08-15-45-00-0001\n",
      "------------------------------------\n",
      "5\n",
      "Channel index: 0\n",
      "Slice index: 4\n",
      "Frame index: 0\n",
      "Exposure (ms): 50\n",
      "Channel name: DAPI\n",
      "File name: im_c000_z004_t000.png\n",
      "Total number of frames in file: 39\n",
      "Project ID: ISP-2018-06-08-15-45-00-0001\n",
      "------------------------------------\n",
      "6\n",
      "Channel index: 0\n",
      "Slice index: 5\n",
      "Frame index: 0\n",
      "Exposure (ms): 50\n",
      "Channel name: DAPI\n",
      "File name: im_c000_z005_t000.png\n",
      "Total number of frames in file: 39\n",
      "Project ID: ISP-2018-06-08-15-45-00-0001\n",
      "------------------------------------\n",
      "7\n",
      "Channel index: 0\n",
      "Slice index: 6\n",
      "Frame index: 0\n",
      "Exposure (ms): 50\n",
      "Channel name: DAPI\n",
      "File name: im_c000_z006_t000.png\n",
      "Total number of frames in file: 39\n",
      "Project ID: ISP-2018-06-08-15-45-00-0001\n",
      "------------------------------------\n",
      "8\n",
      "Channel index: 0\n",
      "Slice index: 7\n",
      "Frame index: 0\n",
      "Exposure (ms): 50\n",
      "Channel name: DAPI\n",
      "File name: im_c000_z007_t000.png\n",
      "Total number of frames in file: 39\n",
      "Project ID: ISP-2018-06-08-15-45-00-0001\n",
      "------------------------------------\n",
      "9\n",
      "Channel index: 0\n",
      "Slice index: 8\n",
      "Frame index: 0\n",
      "Exposure (ms): 50\n",
      "Channel name: DAPI\n",
      "File name: im_c000_z008_t000.png\n",
      "Total number of frames in file: 39\n",
      "Project ID: ISP-2018-06-08-15-45-00-0001\n",
      "------------------------------------\n",
      "10\n",
      "Channel index: 0\n",
      "Slice index: 9\n",
      "Frame index: 0\n",
      "Exposure (ms): 50\n",
      "Channel name: DAPI\n",
      "File name: im_c000_z009_t000.png\n",
      "Total number of frames in file: 39\n",
      "Project ID: ISP-2018-06-08-15-45-00-0001\n",
      "------------------------------------\n",
      "11\n",
      "Channel index: 0\n",
      "Slice index: 10\n",
      "Frame index: 0\n",
      "Exposure (ms): 50\n",
      "Channel name: DAPI\n",
      "File name: im_c000_z010_t000.png\n",
      "Total number of frames in file: 39\n",
      "Project ID: ISP-2018-06-08-15-45-00-0001\n",
      "------------------------------------\n",
      "12\n",
      "Channel index: 0\n",
      "Slice index: 11\n",
      "Frame index: 0\n",
      "Exposure (ms): 50\n",
      "Channel name: DAPI\n",
      "File name: im_c000_z011_t000.png\n",
      "Total number of frames in file: 39\n",
      "Project ID: ISP-2018-06-08-15-45-00-0001\n",
      "------------------------------------\n",
      "13\n",
      "Channel index: 0\n",
      "Slice index: 12\n",
      "Frame index: 0\n",
      "Exposure (ms): 50\n",
      "Channel name: DAPI\n",
      "File name: im_c000_z012_t000.png\n",
      "Total number of frames in file: 39\n",
      "Project ID: ISP-2018-06-08-15-45-00-0001\n",
      "------------------------------------\n",
      "14\n",
      "Channel index: 1\n",
      "Slice index: 0\n",
      "Frame index: 0\n",
      "Exposure (ms): 1000\n",
      "Channel name: FITC\n",
      "File name: im_c001_z000_t000.png\n",
      "Total number of frames in file: 39\n",
      "Project ID: ISP-2018-06-08-15-45-00-0001\n",
      "------------------------------------\n",
      "15\n",
      "Channel index: 1\n",
      "Slice index: 1\n",
      "Frame index: 0\n",
      "Exposure (ms): 1000\n",
      "Channel name: FITC\n",
      "File name: im_c001_z001_t000.png\n",
      "Total number of frames in file: 39\n",
      "Project ID: ISP-2018-06-08-15-45-00-0001\n",
      "------------------------------------\n",
      "16\n",
      "Channel index: 1\n",
      "Slice index: 2\n",
      "Frame index: 0\n",
      "Exposure (ms): 1000\n",
      "Channel name: FITC\n",
      "File name: im_c001_z002_t000.png\n",
      "Total number of frames in file: 39\n",
      "Project ID: ISP-2018-06-08-15-45-00-0001\n",
      "------------------------------------\n",
      "17\n",
      "Channel index: 1\n",
      "Slice index: 3\n",
      "Frame index: 0\n",
      "Exposure (ms): 1000\n",
      "Channel name: FITC\n",
      "File name: im_c001_z003_t000.png\n",
      "Total number of frames in file: 39\n",
      "Project ID: ISP-2018-06-08-15-45-00-0001\n",
      "------------------------------------\n",
      "18\n",
      "Channel index: 1\n",
      "Slice index: 4\n",
      "Frame index: 0\n",
      "Exposure (ms): 1000\n",
      "Channel name: FITC\n",
      "File name: im_c001_z004_t000.png\n",
      "Total number of frames in file: 39\n",
      "Project ID: ISP-2018-06-08-15-45-00-0001\n",
      "------------------------------------\n",
      "19\n",
      "Channel index: 1\n",
      "Slice index: 5\n",
      "Frame index: 0\n",
      "Exposure (ms): 1000\n",
      "Channel name: FITC\n",
      "File name: im_c001_z005_t000.png\n",
      "Total number of frames in file: 39\n",
      "Project ID: ISP-2018-06-08-15-45-00-0001\n",
      "------------------------------------\n",
      "20\n",
      "Channel index: 1\n",
      "Slice index: 6\n",
      "Frame index: 0\n",
      "Exposure (ms): 1000\n",
      "Channel name: FITC\n",
      "File name: im_c001_z006_t000.png\n",
      "Total number of frames in file: 39\n",
      "Project ID: ISP-2018-06-08-15-45-00-0001\n",
      "------------------------------------\n",
      "21\n",
      "Channel index: 1\n",
      "Slice index: 7\n",
      "Frame index: 0\n",
      "Exposure (ms): 1000\n",
      "Channel name: FITC\n",
      "File name: im_c001_z007_t000.png\n",
      "Total number of frames in file: 39\n",
      "Project ID: ISP-2018-06-08-15-45-00-0001\n",
      "------------------------------------\n",
      "22\n",
      "Channel index: 1\n",
      "Slice index: 8\n",
      "Frame index: 0\n",
      "Exposure (ms): 1000\n",
      "Channel name: FITC\n",
      "File name: im_c001_z008_t000.png\n",
      "Total number of frames in file: 39\n",
      "Project ID: ISP-2018-06-08-15-45-00-0001\n",
      "------------------------------------\n",
      "23\n",
      "Channel index: 1\n",
      "Slice index: 9\n",
      "Frame index: 0\n",
      "Exposure (ms): 1000\n",
      "Channel name: FITC\n",
      "File name: im_c001_z009_t000.png\n",
      "Total number of frames in file: 39\n",
      "Project ID: ISP-2018-06-08-15-45-00-0001\n",
      "------------------------------------\n",
      "24\n",
      "Channel index: 1\n",
      "Slice index: 10\n",
      "Frame index: 0\n",
      "Exposure (ms): 1000\n",
      "Channel name: FITC\n",
      "File name: im_c001_z010_t000.png\n",
      "Total number of frames in file: 39\n",
      "Project ID: ISP-2018-06-08-15-45-00-0001\n",
      "------------------------------------\n",
      "25\n",
      "Channel index: 1\n",
      "Slice index: 11\n",
      "Frame index: 0\n",
      "Exposure (ms): 1000\n",
      "Channel name: FITC\n",
      "File name: im_c001_z011_t000.png\n",
      "Total number of frames in file: 39\n",
      "Project ID: ISP-2018-06-08-15-45-00-0001\n",
      "------------------------------------\n",
      "26\n",
      "Channel index: 1\n",
      "Slice index: 12\n",
      "Frame index: 0\n",
      "Exposure (ms): 1000\n",
      "Channel name: FITC\n",
      "File name: im_c001_z012_t000.png\n",
      "Total number of frames in file: 39\n",
      "Project ID: ISP-2018-06-08-15-45-00-0001\n",
      "------------------------------------\n",
      "27\n",
      "Channel index: 2\n",
      "Slice index: 0\n",
      "Frame index: 0\n",
      "Exposure (ms): 1500\n",
      "Channel name: Cy3\n",
      "File name: im_c002_z000_t000.png\n",
      "Total number of frames in file: 39\n",
      "Project ID: ISP-2018-06-08-15-45-00-0001\n",
      "------------------------------------\n",
      "28\n",
      "Channel index: 2\n",
      "Slice index: 1\n",
      "Frame index: 0\n",
      "Exposure (ms): 1500\n",
      "Channel name: Cy3\n",
      "File name: im_c002_z001_t000.png\n",
      "Total number of frames in file: 39\n",
      "Project ID: ISP-2018-06-08-15-45-00-0001\n",
      "------------------------------------\n",
      "29\n",
      "Channel index: 2\n",
      "Slice index: 2\n",
      "Frame index: 0\n",
      "Exposure (ms): 1500\n",
      "Channel name: Cy3\n",
      "File name: im_c002_z002_t000.png\n",
      "Total number of frames in file: 39\n",
      "Project ID: ISP-2018-06-08-15-45-00-0001\n",
      "------------------------------------\n",
      "30\n",
      "Channel index: 2\n",
      "Slice index: 3\n",
      "Frame index: 0\n",
      "Exposure (ms): 1500\n",
      "Channel name: Cy3\n",
      "File name: im_c002_z003_t000.png\n",
      "Total number of frames in file: 39\n",
      "Project ID: ISP-2018-06-08-15-45-00-0001\n",
      "------------------------------------\n",
      "31\n",
      "Channel index: 2\n",
      "Slice index: 4\n",
      "Frame index: 0\n",
      "Exposure (ms): 1500\n",
      "Channel name: Cy3\n",
      "File name: im_c002_z004_t000.png\n",
      "Total number of frames in file: 39\n",
      "Project ID: ISP-2018-06-08-15-45-00-0001\n",
      "------------------------------------\n",
      "32\n",
      "Channel index: 2\n",
      "Slice index: 5\n",
      "Frame index: 0\n",
      "Exposure (ms): 1500\n",
      "Channel name: Cy3\n",
      "File name: im_c002_z005_t000.png\n",
      "Total number of frames in file: 39\n",
      "Project ID: ISP-2018-06-08-15-45-00-0001\n",
      "------------------------------------\n",
      "33\n",
      "Channel index: 2\n",
      "Slice index: 6\n",
      "Frame index: 0\n",
      "Exposure (ms): 1500\n",
      "Channel name: Cy3\n",
      "File name: im_c002_z006_t000.png\n",
      "Total number of frames in file: 39\n",
      "Project ID: ISP-2018-06-08-15-45-00-0001\n",
      "------------------------------------\n",
      "34\n",
      "Channel index: 2\n",
      "Slice index: 7\n",
      "Frame index: 0\n",
      "Exposure (ms): 1500\n",
      "Channel name: Cy3\n",
      "File name: im_c002_z007_t000.png\n",
      "Total number of frames in file: 39\n",
      "Project ID: ISP-2018-06-08-15-45-00-0001\n",
      "------------------------------------\n",
      "35\n",
      "Channel index: 2\n",
      "Slice index: 8\n",
      "Frame index: 0\n",
      "Exposure (ms): 1500\n",
      "Channel name: Cy3\n",
      "File name: im_c002_z008_t000.png\n",
      "Total number of frames in file: 39\n",
      "Project ID: ISP-2018-06-08-15-45-00-0001\n",
      "------------------------------------\n",
      "36\n",
      "Channel index: 2\n",
      "Slice index: 9\n",
      "Frame index: 0\n",
      "Exposure (ms): 1500\n",
      "Channel name: Cy3\n",
      "File name: im_c002_z009_t000.png\n",
      "Total number of frames in file: 39\n",
      "Project ID: ISP-2018-06-08-15-45-00-0001\n",
      "------------------------------------\n",
      "37\n",
      "Channel index: 2\n",
      "Slice index: 10\n",
      "Frame index: 0\n",
      "Exposure (ms): 1500\n",
      "Channel name: Cy3\n",
      "File name: im_c002_z010_t000.png\n",
      "Total number of frames in file: 39\n",
      "Project ID: ISP-2018-06-08-15-45-00-0001\n",
      "------------------------------------\n",
      "38\n",
      "Channel index: 2\n",
      "Slice index: 11\n",
      "Frame index: 0\n",
      "Exposure (ms): 1500\n",
      "Channel name: Cy3\n",
      "File name: im_c002_z011_t000.png\n",
      "Total number of frames in file: 39\n",
      "Project ID: ISP-2018-06-08-15-45-00-0001\n",
      "------------------------------------\n",
      "39\n",
      "Channel index: 2\n",
      "Slice index: 12\n",
      "Frame index: 0\n",
      "Exposure (ms): 1500\n",
      "Channel name: Cy3\n",
      "File name: im_c002_z012_t000.png\n",
      "Total number of frames in file: 39\n",
      "Project ID: ISP-2018-06-08-15-45-00-0001\n",
      "------------------------------------\n"
     ]
    }
   ],
   "source": [
    "slice_info = session.query(Slices)\n",
    "for i in slice_info:\n",
    "    print(i.id)\n",
    "    print(\"Channel index:\", i.channel_idx)\n",
    "    print(\"Slice index:\", i.slice_idx)\n",
    "    print(\"Frame index:\", i.frame_idx)\n",
    "    print(\"Exposure (ms):\", i.exposure_ms)\n",
    "    print(\"Channel name:\", i.channel_name)\n",
    "    print(\"File name:\", i.file_name)\n",
    "    # Since Slices has a many to one mapping to SlicedGlobal, we can easily retrieve info from there\n",
    "    print(\"Total number of frames in file:\", i.sliced_global.nbr_frames)\n",
    "    # SlicedGlobal in turn has a one to one mapping to Project, so from a Slice we can get project info:\n",
    "    print(\"Project ID:\", i.sliced_global.project.project_serial)\n",
    "    print(\"------------------------------------\")"
   ]
  },
  {
   "cell_type": "markdown",
   "metadata": {},
   "source": [
    "Some other examples of queries:\n",
    "Find all Projects which have been sliced"
   ]
  },
  {
   "cell_type": "code",
   "execution_count": 12,
   "metadata": {},
   "outputs": [
    {
     "name": "stdout",
     "output_type": "stream",
     "text": [
      "2\n",
      "ISP-2018-06-08-15-45-00-0001\n",
      "Description: This is what I assume is a typical ome-tif file\n",
      "Is it sliced: True\n",
      "--------\n"
     ]
    }
   ],
   "source": [
    "projs = session.query(Project).filter(Project.sliced == True).all()\n",
    "for p in projs:\n",
    "    print(p.id)\n",
    "    print(p.project_serial)\n",
    "    print(\"Description:\", p.description)\n",
    "    print(\"Is it sliced:\", p.sliced)\n",
    "    print(\"--------\")"
   ]
  },
  {
   "cell_type": "markdown",
   "metadata": {},
   "source": [
    "Get all unique channel names for sliced data:"
   ]
  },
  {
   "cell_type": "code",
   "execution_count": 13,
   "metadata": {},
   "outputs": [
    {
     "name": "stdout",
     "output_type": "stream",
     "text": [
      "('DAPI',)\n",
      "('FITC',)\n",
      "('Cy3',)\n"
     ]
    }
   ],
   "source": [
    "for value in session.query(Slices.channel_name).distinct():\n",
    "    print(value)"
   ]
  },
  {
   "cell_type": "markdown",
   "metadata": {},
   "source": [
    "Now let's get into joint queries. \n",
    "\n",
    "A typical usecase would be to get the S3 storage paths for all slices from a known Project ID.\n",
    "In this example we only want to retrieve the files from a specific channel named FITC.\n",
    "\n",
    "We can get this information by joining tables Sliced, SlicedGlobal, and Project"
   ]
  },
  {
   "cell_type": "code",
   "execution_count": 24,
   "metadata": {},
   "outputs": [
    {
     "name": "stdout",
     "output_type": "stream",
     "text": [
      "raw_slices/ISP-2018-06-08-15-45-00-0001\n",
      "Stack shape: (2048, 2048, 13)\n",
      "Bit depth: uint16\n",
      "im_c001_z000_t000.png\n",
      "im_c001_z001_t000.png\n",
      "im_c001_z002_t000.png\n",
      "im_c001_z003_t000.png\n",
      "im_c001_z004_t000.png\n",
      "im_c001_z005_t000.png\n",
      "im_c001_z006_t000.png\n",
      "im_c001_z007_t000.png\n",
      "im_c001_z008_t000.png\n",
      "im_c001_z009_t000.png\n",
      "im_c001_z010_t000.png\n",
      "im_c001_z011_t000.png\n",
      "im_c001_z012_t000.png\n"
     ]
    }
   ],
   "source": [
    "project_identifier = \"ISP-2018-06-08-15-45-00-0001\"\n",
    "channel_name = \"FITC\"\n",
    "\n",
    "all_slices = session.query(Slices, SlicedGlobal, Project) \\\n",
    "    .join(SlicedGlobal) \\\n",
    "    .join(Project) \\\n",
    "    .filter(Project.project_serial == project_identifier) \\\n",
    "    .filter(Slices.channel_name == channel_name) \\\n",
    "    .all()\n",
    "\n",
    "folder_name = all_slices[0][0].sliced_global.folder_name\n",
    "print(folder_name)\n",
    "stack_shape = (\n",
    "    all_slices[0][0].sliced_global.im_width,\n",
    "    all_slices[0][0].sliced_global.im_height,\n",
    "    len(all_slices),\n",
    ")\n",
    "print(\"Stack shape:\", stack_shape)\n",
    "bit_depth = all_slices[0][0].sliced_global.bit_depth\n",
    "print(\"Bit depth:\", bit_depth)\n",
    "file_names = []\n",
    "for s in all_slices:\n",
    "    file_names.append(s[0].file_name)\n",
    "    print(s[0].file_name)"
   ]
  },
  {
   "cell_type": "markdown",
   "metadata": {},
   "source": [
    "Now we can fetch that data from the S3 bucket where they're stored."
   ]
  },
  {
   "cell_type": "code",
   "execution_count": 20,
   "metadata": {},
   "outputs": [
    {
     "data": {
      "image/png": "[encoded data removed]",
      "text/plain": [
       "<Figure size 432x288 with 1 Axes>"
      ]
     },
     "metadata": {},
     "output_type": "display_data"
    }
   ],
   "source": [
    "%matplotlib inline\n",
    "import imaging_db.filestorage.s3_uploader as s3_uploader\n",
    "import matplotlib.pyplot as plt\n",
    "\n",
    "importlib.reload(s3_uploader)\n",
    "data_uploader = s3_uploader.DataUploader(folder_name=folder_name)\n",
    "im_stack = data_uploader.fetch_slices(file_names, stack_shape, bit_depth)\n",
    "plt.imshow(im_stack[..., 0])\n",
    "plt.show()"
   ]
  },
  {
   "cell_type": "code",
   "execution_count": 21,
   "metadata": {},
   "outputs": [
    {
     "name": "stdout",
     "output_type": "stream",
     "text": [
      "(2048, 2048, 13)\n",
      "float64\n",
      "24506.0 272.0\n"
     ]
    }
   ],
   "source": [
    "print(im_stack.shape)\n",
    "print(im_stack.dtype)\n",
    "print(im_stack.max(), im_stack.min())"
   ]
  },
  {
   "cell_type": "code",
   "execution_count": 25,
   "metadata": {},
   "outputs": [],
   "source": [
    "session.rollback()\n",
    "session.close()"
   ]
  }
 ],
 "metadata": {
  "kernelspec": {
   "display_name": "Python 3",
   "language": "python",
   "name": "python3"
  },
  "language_info": {
   "codemirror_mode": {
    "name": "ipython",
    "version": 3
   },
   "file_extension": ".py",
   "mimetype": "text/x-python",
   "name": "python",
   "nbconvert_exporter": "python",
   "pygments_lexer": "ipython3",
   "version": "3.6.5"
  }
 },
 "nbformat": 4,
 "nbformat_minor": 2
}
